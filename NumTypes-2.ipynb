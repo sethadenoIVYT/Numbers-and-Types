{
 "cells": [
  {
   "cell_type": "code",
   "execution_count": 17,
   "id": "44bf6cd7-cb62-4749-9504-702182518d0c",
   "metadata": {},
   "outputs": [
    {
     "data": {
      "text/plain": [
       "3600"
      ]
     },
     "execution_count": 17,
     "metadata": {},
     "output_type": "execute_result"
    }
   ],
   "source": [
    "60 * 60 "
   ]
  },
  {
   "cell_type": "markdown",
   "id": "a1d5b822-9a35-4fcf-9595-277f57c002aa",
   "metadata": {},
   "source": [
    "There are 3600 seconds in an hour."
   ]
  },
  {
   "cell_type": "code",
   "execution_count": 3,
   "id": "1ce02f1f-1c9f-485e-8b3b-ecf3c8be41f5",
   "metadata": {},
   "outputs": [],
   "source": [
    "seconds_per_hour = 3600"
   ]
  },
  {
   "cell_type": "code",
   "execution_count": 5,
   "id": "5039001c-4d29-4548-b5f8-a14b51c737ab",
   "metadata": {},
   "outputs": [
    {
     "data": {
      "text/plain": [
       "86400"
      ]
     },
     "execution_count": 5,
     "metadata": {},
     "output_type": "execute_result"
    }
   ],
   "source": [
    "seconds_per_hour * 24"
   ]
  },
  {
   "cell_type": "markdown",
   "id": "57d774cf-4603-4a68-b9d8-a0e26ba8abe1",
   "metadata": {},
   "source": [
    "There are 86400 seconds in a day."
   ]
  },
  {
   "cell_type": "code",
   "execution_count": 7,
   "id": "4cd4d82a-9c9e-4a3c-99a2-99eb26e9d238",
   "metadata": {},
   "outputs": [],
   "source": [
    "seconds_per_day = seconds_per_hour * 24"
   ]
  },
  {
   "cell_type": "code",
   "execution_count": 9,
   "id": "a41764e0-74f3-479b-9222-5980e3b9d7ca",
   "metadata": {},
   "outputs": [
    {
     "data": {
      "text/plain": [
       "24.0"
      ]
     },
     "execution_count": 9,
     "metadata": {},
     "output_type": "execute_result"
    }
   ],
   "source": [
    "seconds_per_day / seconds_per_hour"
   ]
  },
  {
   "cell_type": "code",
   "execution_count": 11,
   "id": "c15cb2a4-5c32-46bb-ab2f-81129dbc7eea",
   "metadata": {},
   "outputs": [
    {
     "data": {
      "text/plain": [
       "24"
      ]
     },
     "execution_count": 11,
     "metadata": {},
     "output_type": "execute_result"
    }
   ],
   "source": [
    "seconds_per_day // seconds_per_hour"
   ]
  },
  {
   "cell_type": "code",
   "execution_count": 15,
   "id": "ef5c4312-e49a-45ec-8e65-60edb297d0c8",
   "metadata": {},
   "outputs": [
    {
     "data": {
      "text/plain": [
       "True"
      ]
     },
     "execution_count": 15,
     "metadata": {},
     "output_type": "execute_result"
    }
   ],
   "source": [
    "bool(24.0 == 24)"
   ]
  },
  {
   "cell_type": "markdown",
   "id": "b8ee1802-3288-4a17-9594-9d3f9d8189bd",
   "metadata": {},
   "source": [
    "Yes, the numbers agree with each other regardless of the operator used."
   ]
  }
 ],
 "metadata": {
  "kernelspec": {
   "display_name": "Python 3 (ipykernel)",
   "language": "python",
   "name": "python3"
  },
  "language_info": {
   "codemirror_mode": {
    "name": "ipython",
    "version": 3
   },
   "file_extension": ".py",
   "mimetype": "text/x-python",
   "name": "python",
   "nbconvert_exporter": "python",
   "pygments_lexer": "ipython3",
   "version": "3.12.4"
  }
 },
 "nbformat": 4,
 "nbformat_minor": 5
}
